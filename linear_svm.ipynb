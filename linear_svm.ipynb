{
 "cells": [
  {
   "cell_type": "code",
   "execution_count": 1,
   "metadata": {
    "colab": {},
    "colab_type": "code",
    "id": "lH2uTupp7XbZ"
   },
   "outputs": [],
   "source": [
    "import numpy as np\n",
    "import pandas as pd\n",
    "from sklearn.metrics import accuracy_score\n",
    "from numpy import *\n",
    "from math import log, exp\n",
    "import numpy as np\n",
    "from numpy.random import random\n",
    "import time\n",
    "import cvxopt, cvxopt.solvers"
   ]
  },
  {
   "cell_type": "code",
   "execution_count": null,
   "metadata": {
    "colab": {},
    "colab_type": "code",
    "id": "Eg2upbkAlGbo"
   },
   "outputs": [],
   "source": [
    "test_data= pd.read_csv(\"test_data.txt\", delimiter=\" \",header=None)\n",
    "test_label= pd.read_csv(\"test_label.txt\",delimiter=\" \",header=None)\n",
    "train_data= pd.read_csv(\"train_data.txt\", delimiter=\" \",header=None)\n",
    "train_label= pd.read_csv(\"train_label.txt\", delimiter=\" \",header=None)"
   ]
  },
  {
   "cell_type": "code",
   "execution_count": null,
   "metadata": {
    "colab": {
     "base_uri": "https://localhost:8080/",
     "height": 52
    },
    "colab_type": "code",
    "id": "ohOQ60Rwj1Aw",
    "outputId": "e932948e-9ab6-46f2-a0d4-75fca3ec2226"
   },
   "outputs": [],
   "source": [
    "# train_data_mean = pd.DataFrame(data=train_data)\n",
    "mean_value= train_data.mean(axis=0)\n"
   ]
  },
  {
   "cell_type": "code",
   "execution_count": null,
   "metadata": {
    "colab": {
     "base_uri": "https://localhost:8080/",
     "height": 52
    },
    "colab_type": "code",
    "id": "1iMX6BmrkdGO",
    "outputId": "8c4ed40d-769a-4fe2-ba90-7829ccccaa41"
   },
   "outputs": [],
   "source": [
    "# train_data_std = pd.DataFrame(data=train_data)\n",
    "std_dev=train_data.std(axis=0)"
   ]
  },
  {
   "cell_type": "code",
   "execution_count": 0,
   "metadata": {
    "colab": {},
    "colab_type": "code",
    "id": "LO6IeWRGklKY"
   },
   "outputs": [],
   "source": [
    "train_data_normalised=(train_data-mean_value)/std_dev"
   ]
  },
  {
   "cell_type": "code",
   "execution_count": 0,
   "metadata": {
    "colab": {},
    "colab_type": "code",
    "id": "dj5oL5NK1KoZ"
   },
   "outputs": [],
   "source": [
    "test_data_normalised=(test_data-mean_value)/std_dev"
   ]
  },
  {
   "cell_type": "code",
   "execution_count": 0,
   "metadata": {
    "colab": {},
    "colab_type": "code",
    "id": "wlrL0B49qqn1"
   },
   "outputs": [],
   "source": [
    "def fit(train_data, train_label, C):\n",
    "  n,m = train_data.shape\n",
    "  Q = np.zeros((m+n+1,m+n+1))\n",
    "  for i in range(m):\n",
    "      Q[i,i] = 1\n",
    "  c = np.vstack([np.zeros((m+1,1)), C*np.ones((n,1))])\n",
    "  A = np.zeros((2*n, m+1+n))\n",
    "  A[:n,0:m] = train_label*train_data\n",
    "  A[:n,m] = train_label.T\n",
    "  A[:n,m+1:]  = np.eye(n)\n",
    "  A[n:,m+1:] = np.eye(n)\n",
    "  A = -A\n",
    "  g = np.zeros((2*n,1))\n",
    "  g[:n] = -1\n",
    "  ## E and d are not used in the primal form\n",
    "  ## convert to array\n",
    "  ## have to convert everything to cxvopt matrices\n",
    "  Q = cvxopt.matrix(Q,Q.shape,'d')\n",
    "  c = cvxopt.matrix(c,c.shape,'d')\n",
    "  A = cvxopt.matrix(A,A.shape,'d')\n",
    "  g = cvxopt.matrix(g,g.shape,'d')\n",
    "  ## set up cvxopt\n",
    "  ## z (the vector being minimized for) in this case is [w, b, eps].T\n",
    "  sol = cvxopt.solvers.qp(Q, c, A, g)\n",
    "  return sol\n",
    "     \n"
   ]
  },
  {
   "cell_type": "code",
   "execution_count": 0,
   "metadata": {
    "colab": {},
    "colab_type": "code",
    "id": "QXPjXYVi1Kof"
   },
   "outputs": [],
   "source": [
    "train_data_normalised=train_data_normalised.to_numpy()"
   ]
  },
  {
   "cell_type": "code",
   "execution_count": 0,
   "metadata": {
    "colab": {},
    "colab_type": "code",
    "id": "wsJ0F7eaHMVD"
   },
   "outputs": [],
   "source": [
    "train_label=train_label.to_numpy()"
   ]
  },
  {
   "cell_type": "markdown",
   "metadata": {
    "colab_type": "raw",
    "id": "nzXCdWVP1Koj"
   },
   "source": []
  },
  {
   "cell_type": "code",
   "execution_count": 0,
   "metadata": {
    "colab": {},
    "colab_type": "code",
    "id": "Ze79C-G2Z-2X"
   },
   "outputs": [],
   "source": [
    "def train_svm(train_data1,train_label,val_data,val_label,C=0.25):\n",
    "    p = fit(train_data1,train_label,C)\n",
    "    wP = np.array(p['x'][:train_data1.shape[1]])\n",
    "    bP = p['x'][train_data1.shape[1]]\n",
    "    xValidate = test_data1.to_numpy()\n",
    "   \n",
    "    yP = xValidate.dot(wP) + bP\n",
    "    \n",
    "    a=yP\n",
    "    a[a>0]=1\n",
    "    a[a<0]=-1\n",
    "    return accuracy_score(a, test_label.to_numpy())"
   ]
  },
  {
   "cell_type": "code",
   "execution_count": 0,
   "metadata": {
    "colab": {},
    "colab_type": "code",
    "id": "11lCariNEfIz"
   },
   "outputs": [],
   "source": [
    "def k_FoldCrossValidation(X, y, k = 5,C=0.25):\n",
    "    \n",
    "    numberOfTrainingExamples = y.size\n",
    "    # Run Validation k times, with n/k elements in each division\n",
    "    numberOfElements = (numberOfTrainingExamples // k)\n",
    "    all_acc=[]\n",
    "    print(X.shape)\n",
    "    # Divide the dataset into different folds\n",
    "    for i in range(0, k):\n",
    "        # Divide the dataset\n",
    "        if (i == 0):\n",
    "            # First Fold\n",
    "            XTrain = X[numberOfElements:numberOfTrainingExamples][:]\n",
    "            print(XTrain.shape)\n",
    "            yTrain = y[numberOfElements:numberOfTrainingExamples]\n",
    "            XValid = X[0:numberOfElements][:]\n",
    "            yValid = y[0:numberOfElements]\n",
    "        elif (i == (k - 1)):\n",
    "            # k-th Fold\n",
    "            XTrain = X[0:numberOfTrainingExamples - numberOfElements][:]\n",
    "            yTrain = y[0:numberOfTrainingExamples - numberOfElements]\n",
    "            XValid = X[(k - 1) * (numberOfElements):numberOfTrainingExamples][:]\n",
    "            yValid = y[(k - 1) * (numberOfElements):numberOfTrainingExamples]\n",
    "        else:\n",
    "            XTrain1 = X[0:(i) * (numberOfElements)][:]\n",
    "            yTrain1 = y[0:(i) * (numberOfElements)]\n",
    "            XTrain2 = X[(i + 1) * (numberOfElements):numberOfTrainingExamples][:]\n",
    "            yTrain2 = y[(i + 1) * (numberOfElements):numberOfTrainingExamples]\n",
    "            XTrain = np.concatenate((XTrain1, XTrain2), axis = 0)\n",
    "            yTrain = np.concatenate((yTrain1, yTrain2), axis = 0)\n",
    "            XValid = X[(i * numberOfElements):(i + 1) * numberOfElements][:]\n",
    "            yValid = y[(i * numberOfElements):(i + 1) * numberOfElements]\n",
    "       \n",
    "        start_time=time.time()\n",
    "        # k-Fold Cross Validation\n",
    "        # Train for (k-1) datasets\n",
    "        val_acc = train_svm(XTrain,yTrain,XValid,yValid,C)\n",
    "        print(val_acc)\n",
    "        all_acc.append(val_acc)\n",
    "        end_time=time.time()\n",
    "        \n",
    "        #print (\"accuracy={}={} \".format(val_acc))\n",
    "        \n",
    "    print(\"Final Accuracy at C= {}={}\".format(C,sum(all_acc)/len(all_acc)))\n",
    "    print('Time: ',end_time - start_time, 's')\n",
    "    return sum(all_acc)/len(all_acc)\n"
   ]
  },
  {
   "cell_type": "code",
   "execution_count": null,
   "metadata": {
    "colab": {
     "base_uri": "https://localhost:8080/",
     "height": 1000
    },
    "colab_type": "code",
    "id": "4GsvmKBPFWEa",
    "outputId": "f8d06d95-99a9-4016-e3fe-7425023e011d"
   },
   "outputs": [],
   "source": [
    "C=[(4**(-6)),(4**(-5)),(4**(-4)),(4**(-3)),(4**(-2)), (4**(-1)), 1, 4,(4**(2)), (4**(3)), (4**(4)), (4**(5)), (4**(6))]\n",
    "for c in C:\n",
    "    k_FoldCrossValidation(train_data1, train_label, k = 5,C=c)"
   ]
  },
  {
   "cell_type": "code",
   "execution_count": null,
   "metadata": {
    "colab": {
     "base_uri": "https://localhost:8080/",
     "height": 246
    },
    "colab_type": "code",
    "id": "fSlJlaXvR-On",
    "outputId": "a9ba2bab-350b-4ade-f7ee-a647e2707d69"
   },
   "outputs": [],
   "source": [
    "\n",
    "C = 4**(-4)\n",
    "p = fit(train_data1, train_label, C)\n",
    "    \n",
    "wP = np.array(p['x'][:train_data.shape[1]])\n",
    "bP = p['x'][train_data.shape[1]]\n",
    "def test_svm(test_data, test_label, w, b):\n",
    "    xValidate = test_data.to_numpy()\n",
    "    yP = xValidate.dot(wP) + bP\n",
    "    a=yP\n",
    "    a[a<0]=(-1)\n",
    "    a[a>0]=1\n",
    "    print(accuracy_score(np.round(a), test_label.to_numpy()))"
   ]
  },
  {
   "cell_type": "code",
   "execution_count": null,
   "metadata": {
    "colab": {
     "base_uri": "https://localhost:8080/",
     "height": 34
    },
    "colab_type": "code",
    "id": "GGXrzoehdp8g",
    "outputId": "7660e668-3a3f-4a92-85c0-57a968eb4cf6"
   },
   "outputs": [],
   "source": [
    "test_svm(test_data1, test_label, wP, bP)"
   ]
  }
 ],
 "metadata": {
  "colab": {
   "name": "18661svm_(1) (1) (1).ipynb",
   "provenance": []
  },
  "kernelspec": {
   "display_name": "Python 3",
   "language": "python",
   "name": "python3"
  },
  "language_info": {
   "codemirror_mode": {
    "name": "ipython",
    "version": 3
   },
   "file_extension": ".py",
   "mimetype": "text/x-python",
   "name": "python",
   "nbconvert_exporter": "python",
   "pygments_lexer": "ipython3",
   "version": "3.7.3"
  }
 },
 "nbformat": 4,
 "nbformat_minor": 1
}
